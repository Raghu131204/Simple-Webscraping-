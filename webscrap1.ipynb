{
 "cells": [
  {
   "cell_type": "code",
   "execution_count": 10,
   "id": "4e166c7d-59a1-440e-87be-b49ee7c3cae9",
   "metadata": {},
   "outputs": [],
   "source": [
    "from bs4 import BeautifulSoup\n"
   ]
  },
  {
   "cell_type": "code",
   "execution_count": 11,
   "id": "0c782f99-9430-4538-87b2-7b393987f43c",
   "metadata": {},
   "outputs": [],
   "source": [
    "import requests"
   ]
  },
  {
   "cell_type": "code",
   "execution_count": 25,
   "id": "e1874897-52b7-4a87-90ac-9f9c4943cb8c",
   "metadata": {},
   "outputs": [],
   "source": [
    "url='https://m.timesjobs.com/mobile/jobs-search-result.html?txtKeywords=Python%2C&cboWorkExp1=-1&txtLocation='\n",
    "html_text=requests.get(url).text\n",
    "soup=BeautifulSoup(html_text, 'lxml')\n",
    "jobs=soup.find_all('div',class_='srp-listing')"
   ]
  },
  {
   "cell_type": "code",
   "execution_count": 89,
   "id": "a28e89b3-58da-4d98-ac46-62be2dda6fe8",
   "metadata": {},
   "outputs": [],
   "source": [
    "jobs_list=[]\n",
    "company_names=[]\n",
    "skills_list=[]\n",
    "location=[]\n",
    "experience=[]\n",
    "for job in jobs:\n",
    "    title=job.find(\"h3\").find(\"a\").text.strip()\n",
    "    company_name=job.find(\"h4\").find('span',class_='srp-comp-name').text.strip()\n",
    "    skills=job.find(\"div\",class_='srp-keyskills').find_all(\"a\",class_='srphglt')\n",
    "    s=[skill.text.strip() for skill in skills]\n",
    "    loc=job.find(\"div\",class_=\"exp-loc\").find(\"div\",class_=\"srp-loc\").text.strip()\n",
    "    exp=job.find(\"div\",class_=\"exp-loc\").find(\"div\",class_=\"srp-exp\").text.strip()\n",
    "    experience.append(exp)\n",
    "    location.append(loc)\n",
    "    skills_list.append(s)\n",
    "    company_names.append(company_name)\n",
    "    jobs_list.append(title)\n",
    "\n",
    "    \n",
    "\n"
   ]
  },
  {
   "cell_type": "code",
   "execution_count": 97,
   "id": "112c8671-40ab-40e4-81a5-8c47a1226e3f",
   "metadata": {},
   "outputs": [],
   "source": [
    "job_details = []  \n",
    "\n",
    "for index in range(len(jobs_list)):\n",
    "    job = {\n",
    "        \"Role\": jobs_list[index],\n",
    "        \"Skills\":skills_list[index],\n",
    "        \"Company_Name\": company_names[index],\n",
    "        \"Location\": location[index],\n",
    "        \"Experience\": experience[index]  \n",
    "    }\n",
    "    job_details.append(job)\n"
   ]
  },
  {
   "cell_type": "code",
   "execution_count": 98,
   "id": "40a14de7-cf9b-4bde-bcfb-8eb6de0c0676",
   "metadata": {},
   "outputs": [
    {
     "name": "stdout",
     "output_type": "stream",
     "text": [
      "{'Role': 'Python Developer', 'Skills': ['python core programming', 'data manipulation libraries', 'database interaction', 'web framework development', 'multithreading concepts', 'information technology', 'software requirements', 'sql', 'database management', 'shell scripting', 'rest', 'gtp', 'django'], 'Company_Name': 'SYNECHRON', 'Location': 'Bengaluru / Bangalore', 'Experience': '1 - 6  Years'}\n"
     ]
    }
   ],
   "source": [
    "print(job_details[0])"
   ]
  },
  {
   "cell_type": "code",
   "execution_count": 99,
   "id": "76a97e3a-1576-42ec-965d-7f84d560d8f6",
   "metadata": {},
   "outputs": [
    {
     "name": "stdout",
     "output_type": "stream",
     "text": [
      "Saved jobs.json\n"
     ]
    }
   ],
   "source": [
    "import json\n",
    "\n",
    "# job_details is your list of dictionaries\n",
    "\n",
    "with open(\"jobs.json\", \"w\", encoding=\"utf-8\") as f:\n",
    "    json.dump(job_details, f, indent=4, ensure_ascii=False)\n",
    "\n",
    "print(\"Saved jobs.json\")\n"
   ]
  },
  {
   "cell_type": "code",
   "execution_count": null,
   "id": "5cc219c6-78aa-4504-b38d-39337f2553e3",
   "metadata": {},
   "outputs": [],
   "source": []
  }
 ],
 "metadata": {
  "kernelspec": {
   "display_name": "Python 3 (ipykernel)",
   "language": "python",
   "name": "python3"
  },
  "language_info": {
   "codemirror_mode": {
    "name": "ipython",
    "version": 3
   },
   "file_extension": ".py",
   "mimetype": "text/x-python",
   "name": "python",
   "nbconvert_exporter": "python",
   "pygments_lexer": "ipython3",
   "version": "3.13.5"
  }
 },
 "nbformat": 4,
 "nbformat_minor": 5
}
